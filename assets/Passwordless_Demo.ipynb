{
  "nbformat": 4,
  "nbformat_minor": 0,
  "metadata": {
    "colab": {
      "provenance": [],
      "authorship_tag": "ABX9TyPQ07lNIfX37E08tfo+BtM7",
      "include_colab_link": true
    },
    "kernelspec": {
      "name": "python3",
      "display_name": "Python 3"
    },
    "language_info": {
      "name": "python"
    }
  },
  "cells": [
    {
      "cell_type": "markdown",
      "metadata": {
        "id": "view-in-github",
        "colab_type": "text"
      },
      "source": [
        "<a href=\"https://colab.research.google.com/github/piraces/passwordless/blob/main/assets/Passwordless_Demo.ipynb\" target=\"_parent\"><img src=\"https://colab.research.google.com/assets/colab-badge.svg\" alt=\"Open In Colab\"/></a>"
      ]
    },
    {
      "cell_type": "code",
      "execution_count": 5,
      "metadata": {
        "colab": {
          "base_uri": "https://localhost:8080/"
        },
        "id": "9MeDSqzOHXo4",
        "outputId": "5472d84f-e8a8-4918-d974-78e42a3cafd6"
      },
      "outputs": [
        {
          "output_type": "stream",
          "name": "stdout",
          "text": [
            "fatal: destination path '.' already exists and is not an empty directory.\n"
          ]
        }
      ],
      "source": [
        "!git clone https://github.com/piraces/passwordless"
      ]
    },
    {
      "cell_type": "code",
      "source": [
        "!cp -R passwordless/* ."
      ],
      "metadata": {
        "id": "DUr51wUzH8gZ"
      },
      "execution_count": 7,
      "outputs": []
    },
    {
      "cell_type": "code",
      "source": [
        "!pip install --ignore-installed blinker -r requirements.txt"
      ],
      "metadata": {
        "colab": {
          "base_uri": "https://localhost:8080/",
          "height": 1000
        },
        "id": "Y75KqZoHHiBz",
        "outputId": "33683f26-4b8b-43a1-f70b-632c6a98a75f"
      },
      "execution_count": 10,
      "outputs": [
        {
          "output_type": "stream",
          "name": "stdout",
          "text": [
            "Collecting blinker\n",
            "  Using cached blinker-1.7.0-py3-none-any.whl (13 kB)\n",
            "Collecting asn1crypto==1.5.1 (from -r requirements.txt (line 1))\n",
            "  Using cached asn1crypto-1.5.1-py2.py3-none-any.whl (105 kB)\n",
            "Collecting attrs==23.1.0 (from -r requirements.txt (line 2))\n",
            "  Downloading attrs-23.1.0-py3-none-any.whl (61 kB)\n",
            "\u001b[2K     \u001b[90m━━━━━━━━━━━━━━━━━━━━━━━━━━━━━━━━━━━━━━━━\u001b[0m \u001b[32m61.2/61.2 kB\u001b[0m \u001b[31m1.4 MB/s\u001b[0m eta \u001b[36m0:00:00\u001b[0m\n",
            "\u001b[?25hCollecting black==23.11.0 (from -r requirements.txt (line 3))\n",
            "  Using cached black-23.11.0-cp310-cp310-manylinux_2_17_x86_64.manylinux2014_x86_64.whl (1.7 MB)\n",
            "Collecting cattrs==23.2.1 (from -r requirements.txt (line 4))\n",
            "  Using cached cattrs-23.2.1-py3-none-any.whl (57 kB)\n",
            "Collecting cbor2==5.5.1 (from -r requirements.txt (line 5))\n",
            "  Using cached cbor2-5.5.1-cp310-cp310-manylinux_2_17_x86_64.manylinux2014_x86_64.whl (228 kB)\n",
            "Collecting cffi==1.16.0 (from -r requirements.txt (line 6))\n",
            "  Downloading cffi-1.16.0-cp310-cp310-manylinux_2_17_x86_64.manylinux2014_x86_64.whl (443 kB)\n",
            "\u001b[2K     \u001b[90m━━━━━━━━━━━━━━━━━━━━━━━━━━━━━━━━━━━━━━━━\u001b[0m \u001b[32m443.9/443.9 kB\u001b[0m \u001b[31m9.6 MB/s\u001b[0m eta \u001b[36m0:00:00\u001b[0m\n",
            "\u001b[?25hCollecting click==8.1.7 (from -r requirements.txt (line 7))\n",
            "  Downloading click-8.1.7-py3-none-any.whl (97 kB)\n",
            "\u001b[2K     \u001b[90m━━━━━━━━━━━━━━━━━━━━━━━━━━━━━━━━━━━━━━━━\u001b[0m \u001b[32m97.9/97.9 kB\u001b[0m \u001b[31m13.2 MB/s\u001b[0m eta \u001b[36m0:00:00\u001b[0m\n",
            "\u001b[?25hCollecting cryptography==41.0.5 (from -r requirements.txt (line 8))\n",
            "  Downloading cryptography-41.0.5-cp37-abi3-manylinux_2_28_x86_64.whl (4.4 MB)\n",
            "\u001b[2K     \u001b[90m━━━━━━━━━━━━━━━━━━━━━━━━━━━━━━━━━━━━━━━━\u001b[0m \u001b[32m4.4/4.4 MB\u001b[0m \u001b[31m66.9 MB/s\u001b[0m eta \u001b[36m0:00:00\u001b[0m\n",
            "\u001b[?25hCollecting Flask==3.0.0 (from -r requirements.txt (line 9))\n",
            "  Using cached flask-3.0.0-py3-none-any.whl (99 kB)\n",
            "Collecting itsdangerous==2.1.2 (from -r requirements.txt (line 10))\n",
            "  Downloading itsdangerous-2.1.2-py3-none-any.whl (15 kB)\n",
            "Collecting Jinja2==3.1.2 (from -r requirements.txt (line 11))\n",
            "  Downloading Jinja2-3.1.2-py3-none-any.whl (133 kB)\n",
            "\u001b[2K     \u001b[90m━━━━━━━━━━━━━━━━━━━━━━━━━━━━━━━━━━━━━━━━\u001b[0m \u001b[32m133.1/133.1 kB\u001b[0m \u001b[31m17.6 MB/s\u001b[0m eta \u001b[36m0:00:00\u001b[0m\n",
            "\u001b[?25hCollecting MarkupSafe==2.1.3 (from -r requirements.txt (line 12))\n",
            "  Downloading MarkupSafe-2.1.3-cp310-cp310-manylinux_2_17_x86_64.manylinux2014_x86_64.whl (25 kB)\n",
            "Collecting mypy-extensions==1.0.0 (from -r requirements.txt (line 13))\n",
            "  Using cached mypy_extensions-1.0.0-py3-none-any.whl (4.7 kB)\n",
            "Collecting pathspec==0.11.2 (from -r requirements.txt (line 14))\n",
            "  Using cached pathspec-0.11.2-py3-none-any.whl (29 kB)\n",
            "Collecting platformdirs==4.0.0 (from -r requirements.txt (line 15))\n",
            "  Downloading platformdirs-4.0.0-py3-none-any.whl (17 kB)\n",
            "Collecting pycparser==2.21 (from -r requirements.txt (line 16))\n",
            "  Downloading pycparser-2.21-py2.py3-none-any.whl (118 kB)\n",
            "\u001b[2K     \u001b[90m━━━━━━━━━━━━━━━━━━━━━━━━━━━━━━━━━━━━━━━━\u001b[0m \u001b[32m118.7/118.7 kB\u001b[0m \u001b[31m12.0 MB/s\u001b[0m eta \u001b[36m0:00:00\u001b[0m\n",
            "\u001b[?25hCollecting pyOpenSSL==23.3.0 (from -r requirements.txt (line 17))\n",
            "  Downloading pyOpenSSL-23.3.0-py3-none-any.whl (58 kB)\n",
            "\u001b[2K     \u001b[90m━━━━━━━━━━━━━━━━━━━━━━━━━━━━━━━━━━━━━━━━\u001b[0m \u001b[32m58.8/58.8 kB\u001b[0m \u001b[31m7.6 MB/s\u001b[0m eta \u001b[36m0:00:00\u001b[0m\n",
            "\u001b[?25hCollecting six==1.16.0 (from -r requirements.txt (line 18))\n",
            "  Downloading six-1.16.0-py2.py3-none-any.whl (11 kB)\n",
            "Collecting tomli==2.0.1 (from -r requirements.txt (line 19))\n",
            "  Downloading tomli-2.0.1-py3-none-any.whl (12 kB)\n",
            "Collecting typing_extensions==4.8.0 (from -r requirements.txt (line 20))\n",
            "  Using cached typing_extensions-4.8.0-py3-none-any.whl (31 kB)\n",
            "Collecting webauthn==1.11.1 (from -r requirements.txt (line 21))\n",
            "  Using cached webauthn-1.11.1-py3-none-any.whl (63 kB)\n",
            "Collecting Werkzeug==3.0.1 (from -r requirements.txt (line 22))\n",
            "  Downloading werkzeug-3.0.1-py3-none-any.whl (226 kB)\n",
            "\u001b[2K     \u001b[90m━━━━━━━━━━━━━━━━━━━━━━━━━━━━━━━━━━━━━━━━\u001b[0m \u001b[32m226.7/226.7 kB\u001b[0m \u001b[31m23.0 MB/s\u001b[0m eta \u001b[36m0:00:00\u001b[0m\n",
            "\u001b[?25hCollecting packaging>=22.0 (from black==23.11.0->-r requirements.txt (line 3))\n",
            "  Downloading packaging-23.2-py3-none-any.whl (53 kB)\n",
            "\u001b[2K     \u001b[90m━━━━━━━━━━━━━━━━━━━━━━━━━━━━━━━━━━━━━━━━\u001b[0m \u001b[32m53.0/53.0 kB\u001b[0m \u001b[31m6.2 MB/s\u001b[0m eta \u001b[36m0:00:00\u001b[0m\n",
            "\u001b[?25hCollecting exceptiongroup>=1.1.1 (from cattrs==23.2.1->-r requirements.txt (line 4))\n",
            "  Downloading exceptiongroup-1.1.3-py3-none-any.whl (14 kB)\n",
            "Collecting pydantic>=1.10.11 (from webauthn==1.11.1->-r requirements.txt (line 21))\n",
            "  Downloading pydantic-2.5.1-py3-none-any.whl (381 kB)\n",
            "\u001b[2K     \u001b[90m━━━━━━━━━━━━━━━━━━━━━━━━━━━━━━━━━━━━━━━━\u001b[0m \u001b[32m381.6/381.6 kB\u001b[0m \u001b[31m32.3 MB/s\u001b[0m eta \u001b[36m0:00:00\u001b[0m\n",
            "\u001b[?25hCollecting annotated-types>=0.4.0 (from pydantic>=1.10.11->webauthn==1.11.1->-r requirements.txt (line 21))\n",
            "  Downloading annotated_types-0.6.0-py3-none-any.whl (12 kB)\n",
            "Collecting pydantic-core==2.14.3 (from pydantic>=1.10.11->webauthn==1.11.1->-r requirements.txt (line 21))\n",
            "  Downloading pydantic_core-2.14.3-cp310-cp310-manylinux_2_17_x86_64.manylinux2014_x86_64.whl (2.1 MB)\n",
            "\u001b[2K     \u001b[90m━━━━━━━━━━━━━━━━━━━━━━━━━━━━━━━━━━━━━━━━\u001b[0m \u001b[32m2.1/2.1 MB\u001b[0m \u001b[31m58.4 MB/s\u001b[0m eta \u001b[36m0:00:00\u001b[0m\n",
            "\u001b[?25hInstalling collected packages: asn1crypto, typing_extensions, tomli, six, pycparser, platformdirs, pathspec, packaging, mypy-extensions, MarkupSafe, itsdangerous, exceptiongroup, click, cbor2, blinker, attrs, annotated-types, Werkzeug, pydantic-core, Jinja2, cffi, cattrs, black, pydantic, Flask, cryptography, pyOpenSSL, webauthn\n",
            "\u001b[31mERROR: pip's dependency resolver does not currently take into account all the packages that are installed. This behaviour is the source of the following dependency conflicts.\n",
            "lida 0.0.10 requires fastapi, which is not installed.\n",
            "lida 0.0.10 requires kaleido, which is not installed.\n",
            "lida 0.0.10 requires python-multipart, which is not installed.\n",
            "lida 0.0.10 requires uvicorn, which is not installed.\n",
            "llmx 0.0.15a0 requires cohere, which is not installed.\n",
            "llmx 0.0.15a0 requires openai, which is not installed.\n",
            "llmx 0.0.15a0 requires tiktoken, which is not installed.\n",
            "tensorflow-probability 0.22.0 requires typing-extensions<4.6.0, but you have typing-extensions 4.8.0 which is incompatible.\u001b[0m\u001b[31m\n",
            "\u001b[0mSuccessfully installed Flask-2.2.5 Jinja2-3.1.2 MarkupSafe-2.1.3 Werkzeug-3.0.1 annotated-types-0.6.0 asn1crypto-1.5.1 attrs-23.1.0 black-23.11.0 blinker-1.7.0 cattrs-23.2.1 cbor2-5.5.1 cffi-1.16.0 click-8.1.7 cryptography-41.0.5 exceptiongroup-1.1.3 itsdangerous-2.1.2 mypy-extensions-1.0.0 packaging-23.2 pathspec-0.11.2 platformdirs-4.0.0 pyOpenSSL-23.3.0 pycparser-2.21 pydantic-1.10.13 pydantic-core-2.14.3 six-1.16.0 tomli-2.0.1 typing_extensions-4.8.0 webauthn-1.11.1\n"
          ]
        },
        {
          "output_type": "display_data",
          "data": {
            "application/vnd.colab-display-data+json": {
              "pip_warning": {
                "packages": [
                  "_cffi_backend",
                  "cffi",
                  "cryptography",
                  "six"
                ]
              }
            }
          },
          "metadata": {}
        }
      ]
    },
    {
      "cell_type": "code",
      "source": [
        "from google.colab.output import eval_js\n",
        "print(eval_js(\"google.colab.kernel.proxyPort(5000)\"))"
      ],
      "metadata": {
        "colab": {
          "base_uri": "https://localhost:8080/",
          "height": 34
        },
        "id": "QA7odo2MIop0",
        "outputId": "68877b1d-74bd-481b-cc79-5b0ea437184e"
      },
      "execution_count": 26,
      "outputs": [
        {
          "output_type": "stream",
          "name": "stdout",
          "text": [
            "https://wxfnm97fy3-496ff2e9c6d22116-5000-colab.googleusercontent.com/\n"
          ]
        }
      ]
    },
    {
      "cell_type": "code",
      "source": [
        "!cd src && python3 -m flask --app app.py --debug run"
      ],
      "metadata": {
        "colab": {
          "base_uri": "https://localhost:8080/"
        },
        "id": "l-iWJwG6HzaF",
        "outputId": "f2a3a645-77e4-48a5-83d5-f5950abcda95"
      },
      "execution_count": 27,
      "outputs": [
        {
          "output_type": "stream",
          "name": "stdout",
          "text": [
            "User ID: some_random_user_identifier_like_a_uuid\n",
            "Username: your.name@localhost\n",
            " * Serving Flask app 'app.py'\n",
            " * Debug mode: on\n",
            "\u001b[31m\u001b[1mWARNING: This is a development server. Do not use it in a production deployment. Use a production WSGI server instead.\u001b[0m\n",
            " * Running on http://127.0.0.1:5000\n",
            "\u001b[33mPress CTRL+C to quit\u001b[0m\n",
            " * Restarting with stat\n",
            "User ID: some_random_user_identifier_like_a_uuid\n",
            "Username: your.name@localhost\n",
            " * Debugger is active!\n",
            " * Debugger PIN: 678-238-116\n",
            "127.0.0.1 - - [20/Nov/2023 19:18:40] \"GET / HTTP/1.1\" 200 -\n",
            "127.0.0.1 - - [20/Nov/2023 19:18:40] \"GET /static/script.js HTTP/1.1\" 200 -\n",
            "127.0.0.1 - - [20/Nov/2023 19:18:40] \"GET /static/style.css HTTP/1.1\" 200 -\n",
            "127.0.0.1 - - [20/Nov/2023 19:18:41] \"GET /static/favicon.ico HTTP/1.1\" 200 -\n",
            "127.0.0.1 - - [20/Nov/2023 19:18:49] \"GET /generate-registration-options HTTP/1.1\" 200 -\n",
            "127.0.0.1 - - [20/Nov/2023 19:18:53] \"GET / HTTP/1.1\" 200 -\n",
            "127.0.0.1 - - [20/Nov/2023 19:18:53] \"GET /static/style.css HTTP/1.1\" 200 -\n"
          ]
        }
      ]
    },
    {
      "cell_type": "code",
      "source": [],
      "metadata": {
        "id": "7Dyt3IbXK53X"
      },
      "execution_count": null,
      "outputs": []
    }
  ]
}