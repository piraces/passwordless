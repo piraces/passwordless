{
  "nbformat": 4,
  "nbformat_minor": 0,
  "metadata": {
    "colab": {
      "provenance": [],
      "authorship_tag": "ABX9TyOZfT05u5eY/LpE6Rrq44Of"
    },
    "kernelspec": {
      "name": "python3",
      "display_name": "Python 3"
    },
    "language_info": {
      "name": "python"
    }
  },
  "cells": [
    {
      "cell_type": "markdown",
      "source": [
        "# Clone the original repo"
      ],
      "metadata": {
        "id": "XqRkNvu_QKgB"
      }
    },
    {
      "cell_type": "code",
      "execution_count": 1,
      "metadata": {
        "colab": {
          "base_uri": "https://localhost:8080/"
        },
        "id": "9MeDSqzOHXo4",
        "outputId": "ffbeefa7-e56e-4bcf-d415-17563e6d12b5"
      },
      "outputs": [
        {
          "output_type": "stream",
          "name": "stdout",
          "text": [
            "Cloning into 'passwordless'...\n",
            "remote: Enumerating objects: 84, done.\u001b[K\n",
            "remote: Counting objects: 100% (84/84), done.\u001b[K\n",
            "remote: Compressing objects: 100% (69/69), done.\u001b[K\n",
            "remote: Total 84 (delta 26), reused 53 (delta 11), pack-reused 0\u001b[K\n",
            "Receiving objects: 100% (84/84), 65.08 KiB | 5.01 MiB/s, done.\n",
            "Resolving deltas: 100% (26/26), done.\n"
          ]
        }
      ],
      "source": [
        "!git clone https://github.com/piraces/passwordless"
      ]
    },
    {
      "cell_type": "markdown",
      "source": [
        "# Install all the requirements\n",
        "\n",
        "_**Note:** ignore the `blinker` package and the warning that recommends to restart the runtime (Google Colab compatibility only)._"
      ],
      "metadata": {
        "id": "qyYRbTjgQOBt"
      }
    },
    {
      "cell_type": "code",
      "source": [
        "!pip install --ignore-installed blinker -r passwordless/python/requirements.txt"
      ],
      "metadata": {
        "colab": {
          "base_uri": "https://localhost:8080/",
          "height": 1000
        },
        "id": "Y75KqZoHHiBz",
        "outputId": "8df32f29-9af1-4160-b2aa-7389221b5b6e"
      },
      "execution_count": 2,
      "outputs": [
        {
          "output_type": "stream",
          "name": "stdout",
          "text": [
            "Collecting blinker\n",
            "  Downloading blinker-1.7.0-py3-none-any.whl (13 kB)\n",
            "Collecting asn1crypto==1.5.1 (from -r passwordless/python/requirements.txt (line 1))\n",
            "  Downloading asn1crypto-1.5.1-py2.py3-none-any.whl (105 kB)\n",
            "\u001b[2K     \u001b[90m━━━━━━━━━━━━━━━━━━━━━━━━━━━━━━━━━━━━━━━━\u001b[0m \u001b[32m105.0/105.0 kB\u001b[0m \u001b[31m3.2 MB/s\u001b[0m eta \u001b[36m0:00:00\u001b[0m\n",
            "\u001b[?25hCollecting attrs==23.1.0 (from -r passwordless/python/requirements.txt (line 2))\n",
            "  Downloading attrs-23.1.0-py3-none-any.whl (61 kB)\n",
            "\u001b[2K     \u001b[90m━━━━━━━━━━━━━━━━━━━━━━━━━━━━━━━━━━━━━━━━\u001b[0m \u001b[32m61.2/61.2 kB\u001b[0m \u001b[31m7.7 MB/s\u001b[0m eta \u001b[36m0:00:00\u001b[0m\n",
            "\u001b[?25hCollecting black==23.11.0 (from -r passwordless/python/requirements.txt (line 3))\n",
            "  Downloading black-23.11.0-cp310-cp310-manylinux_2_17_x86_64.manylinux2014_x86_64.whl (1.7 MB)\n",
            "\u001b[2K     \u001b[90m━━━━━━━━━━━━━━━━━━━━━━━━━━━━━━━━━━━━━━━━\u001b[0m \u001b[32m1.7/1.7 MB\u001b[0m \u001b[31m56.8 MB/s\u001b[0m eta \u001b[36m0:00:00\u001b[0m\n",
            "\u001b[?25hCollecting cattrs==23.2.1 (from -r passwordless/python/requirements.txt (line 4))\n",
            "  Downloading cattrs-23.2.1-py3-none-any.whl (57 kB)\n",
            "\u001b[2K     \u001b[90m━━━━━━━━━━━━━━━━━━━━━━━━━━━━━━━━━━━━━━━━\u001b[0m \u001b[32m57.5/57.5 kB\u001b[0m \u001b[31m7.6 MB/s\u001b[0m eta \u001b[36m0:00:00\u001b[0m\n",
            "\u001b[?25hCollecting cbor2==5.5.1 (from -r passwordless/python/requirements.txt (line 5))\n",
            "  Downloading cbor2-5.5.1-cp310-cp310-manylinux_2_17_x86_64.manylinux2014_x86_64.whl (228 kB)\n",
            "\u001b[2K     \u001b[90m━━━━━━━━━━━━━━━━━━━━━━━━━━━━━━━━━━━━━━━━\u001b[0m \u001b[32m228.3/228.3 kB\u001b[0m \u001b[31m22.1 MB/s\u001b[0m eta \u001b[36m0:00:00\u001b[0m\n",
            "\u001b[?25hCollecting cffi==1.16.0 (from -r passwordless/python/requirements.txt (line 6))\n",
            "  Downloading cffi-1.16.0-cp310-cp310-manylinux_2_17_x86_64.manylinux2014_x86_64.whl (443 kB)\n",
            "\u001b[2K     \u001b[90m━━━━━━━━━━━━━━━━━━━━━━━━━━━━━━━━━━━━━━━━\u001b[0m \u001b[32m443.9/443.9 kB\u001b[0m \u001b[31m32.2 MB/s\u001b[0m eta \u001b[36m0:00:00\u001b[0m\n",
            "\u001b[?25hCollecting click==8.1.7 (from -r passwordless/python/requirements.txt (line 7))\n",
            "  Downloading click-8.1.7-py3-none-any.whl (97 kB)\n",
            "\u001b[2K     \u001b[90m━━━━━━━━━━━━━━━━━━━━━━━━━━━━━━━━━━━━━━━━\u001b[0m \u001b[32m97.9/97.9 kB\u001b[0m \u001b[31m10.3 MB/s\u001b[0m eta \u001b[36m0:00:00\u001b[0m\n",
            "\u001b[?25hCollecting cryptography==41.0.5 (from -r passwordless/python/requirements.txt (line 8))\n",
            "  Downloading cryptography-41.0.5-cp37-abi3-manylinux_2_28_x86_64.whl (4.4 MB)\n",
            "\u001b[2K     \u001b[90m━━━━━━━━━━━━━━━━━━━━━━━━━━━━━━━━━━━━━━━━\u001b[0m \u001b[32m4.4/4.4 MB\u001b[0m \u001b[31m68.8 MB/s\u001b[0m eta \u001b[36m0:00:00\u001b[0m\n",
            "\u001b[?25hCollecting Flask==3.0.0 (from -r passwordless/python/requirements.txt (line 9))\n",
            "  Downloading flask-3.0.0-py3-none-any.whl (99 kB)\n",
            "\u001b[2K     \u001b[90m━━━━━━━━━━━━━━━━━━━━━━━━━━━━━━━━━━━━━━━━\u001b[0m \u001b[32m99.7/99.7 kB\u001b[0m \u001b[31m11.7 MB/s\u001b[0m eta \u001b[36m0:00:00\u001b[0m\n",
            "\u001b[?25hCollecting itsdangerous==2.1.2 (from -r passwordless/python/requirements.txt (line 10))\n",
            "  Downloading itsdangerous-2.1.2-py3-none-any.whl (15 kB)\n",
            "Collecting Jinja2==3.1.2 (from -r passwordless/python/requirements.txt (line 11))\n",
            "  Downloading Jinja2-3.1.2-py3-none-any.whl (133 kB)\n",
            "\u001b[2K     \u001b[90m━━━━━━━━━━━━━━━━━━━━━━━━━━━━━━━━━━━━━━━━\u001b[0m \u001b[32m133.1/133.1 kB\u001b[0m \u001b[31m13.4 MB/s\u001b[0m eta \u001b[36m0:00:00\u001b[0m\n",
            "\u001b[?25hCollecting MarkupSafe==2.1.3 (from -r passwordless/python/requirements.txt (line 12))\n",
            "  Downloading MarkupSafe-2.1.3-cp310-cp310-manylinux_2_17_x86_64.manylinux2014_x86_64.whl (25 kB)\n",
            "Collecting mypy-extensions==1.0.0 (from -r passwordless/python/requirements.txt (line 13))\n",
            "  Downloading mypy_extensions-1.0.0-py3-none-any.whl (4.7 kB)\n",
            "Collecting pathspec==0.11.2 (from -r passwordless/python/requirements.txt (line 14))\n",
            "  Downloading pathspec-0.11.2-py3-none-any.whl (29 kB)\n",
            "Collecting platformdirs==4.0.0 (from -r passwordless/python/requirements.txt (line 15))\n",
            "  Downloading platformdirs-4.0.0-py3-none-any.whl (17 kB)\n",
            "Collecting pycparser==2.21 (from -r passwordless/python/requirements.txt (line 16))\n",
            "  Downloading pycparser-2.21-py2.py3-none-any.whl (118 kB)\n",
            "\u001b[2K     \u001b[90m━━━━━━━━━━━━━━━━━━━━━━━━━━━━━━━━━━━━━━━━\u001b[0m \u001b[32m118.7/118.7 kB\u001b[0m \u001b[31m13.5 MB/s\u001b[0m eta \u001b[36m0:00:00\u001b[0m\n",
            "\u001b[?25hCollecting pyOpenSSL==23.3.0 (from -r passwordless/python/requirements.txt (line 17))\n",
            "  Downloading pyOpenSSL-23.3.0-py3-none-any.whl (58 kB)\n",
            "\u001b[2K     \u001b[90m━━━━━━━━━━━━━━━━━━━━━━━━━━━━━━━━━━━━━━━━\u001b[0m \u001b[32m58.8/58.8 kB\u001b[0m \u001b[31m5.1 MB/s\u001b[0m eta \u001b[36m0:00:00\u001b[0m\n",
            "\u001b[?25hCollecting six==1.16.0 (from -r passwordless/python/requirements.txt (line 18))\n",
            "  Downloading six-1.16.0-py2.py3-none-any.whl (11 kB)\n",
            "Collecting tomli==2.0.1 (from -r passwordless/python/requirements.txt (line 19))\n",
            "  Downloading tomli-2.0.1-py3-none-any.whl (12 kB)\n",
            "Collecting typing_extensions==4.8.0 (from -r passwordless/python/requirements.txt (line 20))\n",
            "  Downloading typing_extensions-4.8.0-py3-none-any.whl (31 kB)\n",
            "Collecting webauthn==1.11.1 (from -r passwordless/python/requirements.txt (line 21))\n",
            "  Downloading webauthn-1.11.1-py3-none-any.whl (63 kB)\n",
            "\u001b[2K     \u001b[90m━━━━━━━━━━━━━━━━━━━━━━━━━━━━━━━━━━━━━━━━\u001b[0m \u001b[32m63.4/63.4 kB\u001b[0m \u001b[31m7.4 MB/s\u001b[0m eta \u001b[36m0:00:00\u001b[0m\n",
            "\u001b[?25hCollecting Werkzeug==3.0.1 (from -r passwordless/python/requirements.txt (line 22))\n",
            "  Downloading werkzeug-3.0.1-py3-none-any.whl (226 kB)\n",
            "\u001b[2K     \u001b[90m━━━━━━━━━━━━━━━━━━━━━━━━━━━━━━━━━━━━━━━━\u001b[0m \u001b[32m226.7/226.7 kB\u001b[0m \u001b[31m22.1 MB/s\u001b[0m eta \u001b[36m0:00:00\u001b[0m\n",
            "\u001b[?25hCollecting packaging>=22.0 (from black==23.11.0->-r passwordless/python/requirements.txt (line 3))\n",
            "  Downloading packaging-23.2-py3-none-any.whl (53 kB)\n",
            "\u001b[2K     \u001b[90m━━━━━━━━━━━━━━━━━━━━━━━━━━━━━━━━━━━━━━━━\u001b[0m \u001b[32m53.0/53.0 kB\u001b[0m \u001b[31m6.5 MB/s\u001b[0m eta \u001b[36m0:00:00\u001b[0m\n",
            "\u001b[?25hCollecting exceptiongroup>=1.1.1 (from cattrs==23.2.1->-r passwordless/python/requirements.txt (line 4))\n",
            "  Downloading exceptiongroup-1.2.0-py3-none-any.whl (16 kB)\n",
            "Collecting pydantic>=1.10.11 (from webauthn==1.11.1->-r passwordless/python/requirements.txt (line 21))\n",
            "  Downloading pydantic-2.5.2-py3-none-any.whl (381 kB)\n",
            "\u001b[2K     \u001b[90m━━━━━━━━━━━━━━━━━━━━━━━━━━━━━━━━━━━━━━━━\u001b[0m \u001b[32m381.9/381.9 kB\u001b[0m \u001b[31m29.7 MB/s\u001b[0m eta \u001b[36m0:00:00\u001b[0m\n",
            "\u001b[?25hCollecting annotated-types>=0.4.0 (from pydantic>=1.10.11->webauthn==1.11.1->-r passwordless/python/requirements.txt (line 21))\n",
            "  Downloading annotated_types-0.6.0-py3-none-any.whl (12 kB)\n",
            "Collecting pydantic-core==2.14.5 (from pydantic>=1.10.11->webauthn==1.11.1->-r passwordless/python/requirements.txt (line 21))\n",
            "  Downloading pydantic_core-2.14.5-cp310-cp310-manylinux_2_17_x86_64.manylinux2014_x86_64.whl (2.1 MB)\n",
            "\u001b[2K     \u001b[90m━━━━━━━━━━━━━━━━━━━━━━━━━━━━━━━━━━━━━━━━\u001b[0m \u001b[32m2.1/2.1 MB\u001b[0m \u001b[31m69.0 MB/s\u001b[0m eta \u001b[36m0:00:00\u001b[0m\n",
            "\u001b[?25hInstalling collected packages: asn1crypto, typing_extensions, tomli, six, pycparser, platformdirs, pathspec, packaging, mypy-extensions, MarkupSafe, itsdangerous, exceptiongroup, click, cbor2, blinker, attrs, annotated-types, Werkzeug, pydantic-core, Jinja2, cffi, cattrs, black, pydantic, Flask, cryptography, pyOpenSSL, webauthn\n",
            "\u001b[31mERROR: pip's dependency resolver does not currently take into account all the packages that are installed. This behaviour is the source of the following dependency conflicts.\n",
            "lida 0.0.10 requires fastapi, which is not installed.\n",
            "lida 0.0.10 requires kaleido, which is not installed.\n",
            "lida 0.0.10 requires python-multipart, which is not installed.\n",
            "lida 0.0.10 requires uvicorn, which is not installed.\n",
            "llmx 0.0.15a0 requires cohere, which is not installed.\n",
            "llmx 0.0.15a0 requires openai, which is not installed.\n",
            "llmx 0.0.15a0 requires tiktoken, which is not installed.\n",
            "tensorflow-probability 0.22.0 requires typing-extensions<4.6.0, but you have typing-extensions 4.8.0 which is incompatible.\u001b[0m\u001b[31m\n",
            "\u001b[0mSuccessfully installed Flask-2.2.5 Jinja2-3.1.2 MarkupSafe-2.1.3 Werkzeug-3.0.1 annotated-types-0.6.0 asn1crypto-1.5.1 attrs-23.1.0 black-23.11.0 blinker-1.7.0 cattrs-23.2.1 cbor2-5.5.1 cffi-1.16.0 click-8.1.7 cryptography-41.0.5 exceptiongroup-1.1.3 itsdangerous-2.1.2 mypy-extensions-1.0.0 packaging-23.2 pathspec-0.11.2 platformdirs-4.0.0 pyOpenSSL-23.3.0 pycparser-2.21 pydantic-1.10.13 pydantic-core-2.14.5 six-1.16.0 tomli-2.0.1 typing_extensions-4.5.0 webauthn-1.11.1\n"
          ]
        },
        {
          "output_type": "display_data",
          "data": {
            "application/vnd.colab-display-data+json": {
              "pip_warning": {
                "packages": [
                  "cffi",
                  "six"
                ]
              }
            }
          },
          "metadata": {}
        }
      ]
    },
    {
      "cell_type": "markdown",
      "source": [
        "# Set-up environment variables and a proxy from Google Colab\n",
        "\n",
        "_**Note:** once the last code cell is running, navigate to the last URL that this cell outputs._"
      ],
      "metadata": {
        "id": "n9axClmcQjoD"
      }
    },
    {
      "cell_type": "code",
      "source": [
        "import os\n",
        "from google.colab.output import eval_js\n",
        "origin = eval_js(\"google.colab.kernel.proxyPort(5000)\")\n",
        "origin_hostname = origin.replace('https://', '').replace('/', '')\n",
        "os.environ['RP_ID'] = origin_hostname\n",
        "os.environ['RP_ORIGIN'] = origin[:-1]\n",
        "print(f\"RP_ID is: {os.environ['RP_ID']}\")\n",
        "print(f\"RP_ORIGIN is: {os.environ['RP_ORIGIN']}\")\n",
        "\n",
        "print(origin)"
      ],
      "metadata": {
        "colab": {
          "base_uri": "https://localhost:8080/",
          "height": 69
        },
        "id": "QA7odo2MIop0",
        "outputId": "d0fb7c1d-6f84-415d-aae0-14047137eabb"
      },
      "execution_count": 3,
      "outputs": [
        {
          "output_type": "stream",
          "name": "stdout",
          "text": [
            "RP_ID is: 3njd1yb62oj-496ff2e9c6d22116-5000-colab.googleusercontent.com\n",
            "RP_ORIGIN is: https://3njd1yb62oj-496ff2e9c6d22116-5000-colab.googleusercontent.com\n",
            "https://3njd1yb62oj-496ff2e9c6d22116-5000-colab.googleusercontent.com/\n"
          ]
        }
      ]
    },
    {
      "cell_type": "markdown",
      "source": [
        "**The cell bellow will run indefinitely, make sure to stop when done**"
      ],
      "metadata": {
        "id": "3s_OdJdsQ-cf"
      }
    },
    {
      "cell_type": "code",
      "source": [
        "!cd passwordless/python/src && python3 -m flask --app app.py --debug run"
      ],
      "metadata": {
        "colab": {
          "base_uri": "https://localhost:8080/"
        },
        "id": "l-iWJwG6HzaF",
        "outputId": "f0e302ce-db48-476d-ed8b-469b938129fb"
      },
      "execution_count": null,
      "outputs": [
        {
          "output_type": "stream",
          "name": "stdout",
          "text": [
            "User ID: some_random_user_identifier_like_a_uuid\n",
            "Username: your.name@3njd1yb62oj-496ff2e9c6d22116-5000-colab.googleusercontent.com\n",
            " * Serving Flask app 'app.py'\n",
            " * Debug mode: on\n",
            "\u001b[31m\u001b[1mWARNING: This is a development server. Do not use it in a production deployment. Use a production WSGI server instead.\u001b[0m\n",
            " * Running on http://127.0.0.1:5000\n",
            "\u001b[33mPress CTRL+C to quit\u001b[0m\n",
            " * Restarting with stat\n",
            "User ID: some_random_user_identifier_like_a_uuid\n",
            "Username: your.name@3njd1yb62oj-496ff2e9c6d22116-5000-colab.googleusercontent.com\n",
            " * Debugger is active!\n",
            " * Debugger PIN: 931-848-217\n"
          ]
        }
      ]
    },
    {
      "cell_type": "code",
      "source": [],
      "metadata": {
        "id": "7XpkbLXgdvit"
      },
      "execution_count": null,
      "outputs": []
    }
  ]
}