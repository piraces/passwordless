{
  "nbformat": 4,
  "nbformat_minor": 0,
  "metadata": {
    "colab": {
      "provenance": [],
      "authorship_tag": "ABX9TyNItVhDW83+ZeKoZG70wyOe"
    },
    "kernelspec": {
      "name": "python3",
      "display_name": "Python 3"
    },
    "language_info": {
      "name": "python"
    }
  },
  "cells": [
    {
      "cell_type": "markdown",
      "source": [
        "# Clone the original repo"
      ],
      "metadata": {
        "id": "XqRkNvu_QKgB"
      }
    },
    {
      "cell_type": "code",
      "execution_count": 29,
      "metadata": {
        "colab": {
          "base_uri": "https://localhost:8080/"
        },
        "id": "9MeDSqzOHXo4",
        "outputId": "900dd140-3360-4e20-cdad-9c0ed4b59571"
      },
      "outputs": [
        {
          "output_type": "stream",
          "name": "stdout",
          "text": [
            "Cloning into 'passwordless'...\n",
            "remote: Enumerating objects: 36, done.\u001b[K\n",
            "remote: Counting objects:   2% (1/36)\u001b[K\rremote: Counting objects:   5% (2/36)\u001b[K\rremote: Counting objects:   8% (3/36)\u001b[K\rremote: Counting objects:  11% (4/36)\u001b[K\rremote: Counting objects:  13% (5/36)\u001b[K\rremote: Counting objects:  16% (6/36)\u001b[K\rremote: Counting objects:  19% (7/36)\u001b[K\rremote: Counting objects:  22% (8/36)\u001b[K\rremote: Counting objects:  25% (9/36)\u001b[K\rremote: Counting objects:  27% (10/36)\u001b[K\rremote: Counting objects:  30% (11/36)\u001b[K\rremote: Counting objects:  33% (12/36)\u001b[K\rremote: Counting objects:  36% (13/36)\u001b[K\rremote: Counting objects:  38% (14/36)\u001b[K\rremote: Counting objects:  41% (15/36)\u001b[K\rremote: Counting objects:  44% (16/36)\u001b[K\rremote: Counting objects:  47% (17/36)\u001b[K\rremote: Counting objects:  50% (18/36)\u001b[K\rremote: Counting objects:  52% (19/36)\u001b[K\rremote: Counting objects:  55% (20/36)\u001b[K\rremote: Counting objects:  58% (21/36)\u001b[K\rremote: Counting objects:  61% (22/36)\u001b[K\rremote: Counting objects:  63% (23/36)\u001b[K\rremote: Counting objects:  66% (24/36)\u001b[K\rremote: Counting objects:  69% (25/36)\u001b[K\rremote: Counting objects:  72% (26/36)\u001b[K\rremote: Counting objects:  75% (27/36)\u001b[K\rremote: Counting objects:  77% (28/36)\u001b[K\rremote: Counting objects:  80% (29/36)\u001b[K\rremote: Counting objects:  83% (30/36)\u001b[K\rremote: Counting objects:  86% (31/36)\u001b[K\rremote: Counting objects:  88% (32/36)\u001b[K\rremote: Counting objects:  91% (33/36)\u001b[K\rremote: Counting objects:  94% (34/36)\u001b[K\rremote: Counting objects:  97% (35/36)\u001b[K\rremote: Counting objects: 100% (36/36)\u001b[K\rremote: Counting objects: 100% (36/36), done.\u001b[K\n",
            "remote: Compressing objects:   3% (1/31)\u001b[K\rremote: Compressing objects:   6% (2/31)\u001b[K\rremote: Compressing objects:   9% (3/31)\u001b[K\rremote: Compressing objects:  12% (4/31)\u001b[K\rremote: Compressing objects:  16% (5/31)\u001b[K\rremote: Compressing objects:  19% (6/31)\u001b[K\rremote: Compressing objects:  22% (7/31)\u001b[K\rremote: Compressing objects:  25% (8/31)\u001b[K\rremote: Compressing objects:  29% (9/31)\u001b[K\rremote: Compressing objects:  32% (10/31)\u001b[K\rremote: Compressing objects:  35% (11/31)\u001b[K\rremote: Compressing objects:  38% (12/31)\u001b[K\rremote: Compressing objects:  41% (13/31)\u001b[K\rremote: Compressing objects:  45% (14/31)\u001b[K\rremote: Compressing objects:  48% (15/31)\u001b[K\rremote: Compressing objects:  51% (16/31)\u001b[K\rremote: Compressing objects:  54% (17/31)\u001b[K\rremote: Compressing objects:  58% (18/31)\u001b[K\rremote: Compressing objects:  61% (19/31)\u001b[K\rremote: Compressing objects:  64% (20/31)\u001b[K\rremote: Compressing objects:  67% (21/31)\u001b[K\rremote: Compressing objects:  70% (22/31)\u001b[K\rremote: Compressing objects:  74% (23/31)\u001b[K\rremote: Compressing objects:  77% (24/31)\u001b[K\rremote: Compressing objects:  80% (25/31)\u001b[K\rremote: Compressing objects:  83% (26/31)\u001b[K\rremote: Compressing objects:  87% (27/31)\u001b[K\rremote: Compressing objects:  90% (28/31)\u001b[K\rremote: Compressing objects:  93% (29/31)\u001b[K\rremote: Compressing objects:  96% (30/31)\u001b[K\rremote: Compressing objects: 100% (31/31)\u001b[K\rremote: Compressing objects: 100% (31/31), done.\u001b[K\n",
            "Receiving objects:   2% (1/36)\rReceiving objects:   5% (2/36)\rReceiving objects:   8% (3/36)\rReceiving objects:  11% (4/36)\rReceiving objects:  13% (5/36)\rReceiving objects:  16% (6/36)\rReceiving objects:  19% (7/36)\rReceiving objects:  22% (8/36)\rReceiving objects:  25% (9/36)\rReceiving objects:  27% (10/36)\rReceiving objects:  30% (11/36)\rReceiving objects:  33% (12/36)\rReceiving objects:  36% (13/36)\rremote: Total 36 (delta 5), reused 25 (delta 3), pack-reused 0\u001b[K\n",
            "Receiving objects:  38% (14/36)\rReceiving objects:  41% (15/36)\rReceiving objects:  44% (16/36)\rReceiving objects:  47% (17/36)\rReceiving objects:  50% (18/36)\rReceiving objects:  52% (19/36)\rReceiving objects:  55% (20/36)\rReceiving objects:  58% (21/36)\rReceiving objects:  61% (22/36)\rReceiving objects:  63% (23/36)\rReceiving objects:  66% (24/36)\rReceiving objects:  69% (25/36)\rReceiving objects:  72% (26/36)\rReceiving objects:  75% (27/36)\rReceiving objects:  77% (28/36)\rReceiving objects:  80% (29/36)\rReceiving objects:  83% (30/36)\rReceiving objects:  86% (31/36)\rReceiving objects:  88% (32/36)\rReceiving objects:  91% (33/36)\rReceiving objects:  94% (34/36)\rReceiving objects:  97% (35/36)\rReceiving objects: 100% (36/36)\rReceiving objects: 100% (36/36), 15.77 KiB | 3.94 MiB/s, done.\n",
            "Resolving deltas:   0% (0/5)\rResolving deltas:  20% (1/5)\rResolving deltas:  40% (2/5)\rResolving deltas:  60% (3/5)\rResolving deltas:  80% (4/5)\rResolving deltas: 100% (5/5)\rResolving deltas: 100% (5/5), done.\n"
          ]
        }
      ],
      "source": [
        "!git clone https://github.com/piraces/passwordless"
      ]
    },
    {
      "cell_type": "markdown",
      "source": [
        "# Install all the requirements\n",
        "\n",
        "_**Note:** ignore the `blinker` package and the warning that recommends to restart the runtime (Google Colab compatibility only)._"
      ],
      "metadata": {
        "id": "qyYRbTjgQOBt"
      }
    },
    {
      "cell_type": "code",
      "source": [
        "!pip install --ignore-installed blinker -r passwordless/requirements.txt"
      ],
      "metadata": {
        "colab": {
          "base_uri": "https://localhost:8080/",
          "height": 1000
        },
        "id": "Y75KqZoHHiBz",
        "outputId": "0425c40c-8b9a-4db0-b496-547755a5a618"
      },
      "execution_count": 31,
      "outputs": [
        {
          "output_type": "stream",
          "name": "stdout",
          "text": [
            "Collecting blinker\n",
            "  Using cached blinker-1.7.0-py3-none-any.whl (13 kB)\n",
            "Collecting asn1crypto==1.5.1 (from -r passwordless/requirements.txt (line 1))\n",
            "  Using cached asn1crypto-1.5.1-py2.py3-none-any.whl (105 kB)\n",
            "Collecting attrs==23.1.0 (from -r passwordless/requirements.txt (line 2))\n",
            "  Using cached attrs-23.1.0-py3-none-any.whl (61 kB)\n",
            "Collecting black==23.11.0 (from -r passwordless/requirements.txt (line 3))\n",
            "  Using cached black-23.11.0-cp310-cp310-manylinux_2_17_x86_64.manylinux2014_x86_64.whl (1.7 MB)\n",
            "Collecting cattrs==23.2.1 (from -r passwordless/requirements.txt (line 4))\n",
            "  Using cached cattrs-23.2.1-py3-none-any.whl (57 kB)\n",
            "Collecting cbor2==5.5.1 (from -r passwordless/requirements.txt (line 5))\n",
            "  Using cached cbor2-5.5.1-cp310-cp310-manylinux_2_17_x86_64.manylinux2014_x86_64.whl (228 kB)\n",
            "Collecting cffi==1.16.0 (from -r passwordless/requirements.txt (line 6))\n",
            "  Using cached cffi-1.16.0-cp310-cp310-manylinux_2_17_x86_64.manylinux2014_x86_64.whl (443 kB)\n",
            "Collecting click==8.1.7 (from -r passwordless/requirements.txt (line 7))\n",
            "  Using cached click-8.1.7-py3-none-any.whl (97 kB)\n",
            "Collecting cryptography==41.0.5 (from -r passwordless/requirements.txt (line 8))\n",
            "  Using cached cryptography-41.0.5-cp37-abi3-manylinux_2_28_x86_64.whl (4.4 MB)\n",
            "Collecting Flask==3.0.0 (from -r passwordless/requirements.txt (line 9))\n",
            "  Using cached flask-3.0.0-py3-none-any.whl (99 kB)\n",
            "Collecting itsdangerous==2.1.2 (from -r passwordless/requirements.txt (line 10))\n",
            "  Using cached itsdangerous-2.1.2-py3-none-any.whl (15 kB)\n",
            "Collecting Jinja2==3.1.2 (from -r passwordless/requirements.txt (line 11))\n",
            "  Using cached Jinja2-3.1.2-py3-none-any.whl (133 kB)\n",
            "Collecting MarkupSafe==2.1.3 (from -r passwordless/requirements.txt (line 12))\n",
            "  Using cached MarkupSafe-2.1.3-cp310-cp310-manylinux_2_17_x86_64.manylinux2014_x86_64.whl (25 kB)\n",
            "Collecting mypy-extensions==1.0.0 (from -r passwordless/requirements.txt (line 13))\n",
            "  Using cached mypy_extensions-1.0.0-py3-none-any.whl (4.7 kB)\n",
            "Collecting pathspec==0.11.2 (from -r passwordless/requirements.txt (line 14))\n",
            "  Using cached pathspec-0.11.2-py3-none-any.whl (29 kB)\n",
            "Collecting platformdirs==4.0.0 (from -r passwordless/requirements.txt (line 15))\n",
            "  Using cached platformdirs-4.0.0-py3-none-any.whl (17 kB)\n",
            "Collecting pycparser==2.21 (from -r passwordless/requirements.txt (line 16))\n",
            "  Using cached pycparser-2.21-py2.py3-none-any.whl (118 kB)\n",
            "Collecting pyOpenSSL==23.3.0 (from -r passwordless/requirements.txt (line 17))\n",
            "  Using cached pyOpenSSL-23.3.0-py3-none-any.whl (58 kB)\n",
            "Collecting six==1.16.0 (from -r passwordless/requirements.txt (line 18))\n",
            "  Using cached six-1.16.0-py2.py3-none-any.whl (11 kB)\n",
            "Collecting tomli==2.0.1 (from -r passwordless/requirements.txt (line 19))\n",
            "  Using cached tomli-2.0.1-py3-none-any.whl (12 kB)\n",
            "Collecting typing_extensions==4.8.0 (from -r passwordless/requirements.txt (line 20))\n",
            "  Using cached typing_extensions-4.8.0-py3-none-any.whl (31 kB)\n",
            "Collecting webauthn==1.11.1 (from -r passwordless/requirements.txt (line 21))\n",
            "  Using cached webauthn-1.11.1-py3-none-any.whl (63 kB)\n",
            "Collecting Werkzeug==3.0.1 (from -r passwordless/requirements.txt (line 22))\n",
            "  Using cached werkzeug-3.0.1-py3-none-any.whl (226 kB)\n",
            "Collecting packaging>=22.0 (from black==23.11.0->-r passwordless/requirements.txt (line 3))\n",
            "  Using cached packaging-23.2-py3-none-any.whl (53 kB)\n",
            "Collecting exceptiongroup>=1.1.1 (from cattrs==23.2.1->-r passwordless/requirements.txt (line 4))\n",
            "  Using cached exceptiongroup-1.1.3-py3-none-any.whl (14 kB)\n",
            "Collecting pydantic>=1.10.11 (from webauthn==1.11.1->-r passwordless/requirements.txt (line 21))\n",
            "  Using cached pydantic-2.5.1-py3-none-any.whl (381 kB)\n",
            "Collecting annotated-types>=0.4.0 (from pydantic>=1.10.11->webauthn==1.11.1->-r passwordless/requirements.txt (line 21))\n",
            "  Using cached annotated_types-0.6.0-py3-none-any.whl (12 kB)\n",
            "Collecting pydantic-core==2.14.3 (from pydantic>=1.10.11->webauthn==1.11.1->-r passwordless/requirements.txt (line 21))\n",
            "  Using cached pydantic_core-2.14.3-cp310-cp310-manylinux_2_17_x86_64.manylinux2014_x86_64.whl (2.1 MB)\n",
            "Installing collected packages: asn1crypto, typing_extensions, tomli, six, pycparser, platformdirs, pathspec, packaging, mypy-extensions, MarkupSafe, itsdangerous, exceptiongroup, click, cbor2, blinker, attrs, annotated-types, Werkzeug, pydantic-core, Jinja2, cffi, cattrs, black, pydantic, Flask, cryptography, pyOpenSSL, webauthn\n",
            "\u001b[31mERROR: pip's dependency resolver does not currently take into account all the packages that are installed. This behaviour is the source of the following dependency conflicts.\n",
            "lida 0.0.10 requires fastapi, which is not installed.\n",
            "lida 0.0.10 requires kaleido, which is not installed.\n",
            "lida 0.0.10 requires python-multipart, which is not installed.\n",
            "lida 0.0.10 requires uvicorn, which is not installed.\n",
            "llmx 0.0.15a0 requires cohere, which is not installed.\n",
            "llmx 0.0.15a0 requires openai, which is not installed.\n",
            "llmx 0.0.15a0 requires tiktoken, which is not installed.\n",
            "tensorflow-probability 0.22.0 requires typing-extensions<4.6.0, but you have typing-extensions 4.8.0 which is incompatible.\u001b[0m\u001b[31m\n",
            "\u001b[0mSuccessfully installed Flask-2.2.5 Jinja2-3.1.2 MarkupSafe-2.1.3 Werkzeug-3.0.1 annotated-types-0.6.0 asn1crypto-1.5.1 attrs-23.1.0 black-23.11.0 blinker-1.7.0 cattrs-23.2.1 cbor2-5.5.1 cffi-1.16.0 click-8.1.7 cryptography-41.0.5 exceptiongroup-1.1.3 itsdangerous-2.1.2 mypy-extensions-1.0.0 packaging-23.2 pathspec-0.11.2 platformdirs-4.0.0 pyOpenSSL-23.3.0 pycparser-2.21 pydantic-1.10.13 pydantic-core-2.14.3 six-1.16.0 tomli-2.0.1 typing_extensions-4.5.0 webauthn-1.11.1\n"
          ]
        },
        {
          "output_type": "display_data",
          "data": {
            "application/vnd.colab-display-data+json": {
              "pip_warning": {
                "packages": [
                  "_cffi_backend",
                  "cffi",
                  "cryptography",
                  "six"
                ]
              }
            }
          },
          "metadata": {}
        }
      ]
    },
    {
      "cell_type": "markdown",
      "source": [
        "# Set-up environment variables and a proxy from Google Colab\n",
        "\n",
        "_**Note:** once the last code cell is running, navigate to the last URL that this cell outputs._"
      ],
      "metadata": {
        "id": "n9axClmcQjoD"
      }
    },
    {
      "cell_type": "code",
      "source": [
        "import os\n",
        "from google.colab.output import eval_js\n",
        "origin = eval_js(\"google.colab.kernel.proxyPort(5000)\")\n",
        "origin_hostname = origin.replace('https://', '').replace('/', '')\n",
        "os.environ['RP_ID'] = origin_hostname\n",
        "os.environ['RP_ORIGIN'] = origin[:-1]\n",
        "print(f\"RP_ID is: {os.environ['RP_ID']}\")\n",
        "print(f\"RP_ORIGIN is: {os.environ['RP_ORIGIN']}\")\n",
        "\n",
        "print(origin)"
      ],
      "metadata": {
        "colab": {
          "base_uri": "https://localhost:8080/",
          "height": 69
        },
        "id": "QA7odo2MIop0",
        "outputId": "2153218e-b2c8-4597-d666-92560f160416"
      },
      "execution_count": 32,
      "outputs": [
        {
          "output_type": "stream",
          "name": "stdout",
          "text": [
            "RP_ID is: wvy1b71gmw-496ff2e9c6d22116-5000-colab.googleusercontent.com\n",
            "RP_ORIGIN is: https://wvy1b71gmw-496ff2e9c6d22116-5000-colab.googleusercontent.com\n",
            "https://wvy1b71gmw-496ff2e9c6d22116-5000-colab.googleusercontent.com/\n"
          ]
        }
      ]
    },
    {
      "cell_type": "markdown",
      "source": [
        "**The below cell will run indefinitely, make sure to stop when done**"
      ],
      "metadata": {
        "id": "3s_OdJdsQ-cf"
      }
    },
    {
      "cell_type": "code",
      "source": [
        "!cd passwordless/src && python3 -m flask --app app.py --debug run"
      ],
      "metadata": {
        "colab": {
          "base_uri": "https://localhost:8080/"
        },
        "id": "l-iWJwG6HzaF",
        "outputId": "aeac8ffc-0c63-4f38-cf60-70a96e3f18ae"
      },
      "execution_count": 33,
      "outputs": [
        {
          "output_type": "stream",
          "name": "stdout",
          "text": [
            "User ID: some_random_user_identifier_like_a_uuid\n",
            "Username: your.name@wvy1b71gmw-496ff2e9c6d22116-5000-colab.googleusercontent.com\n",
            " * Serving Flask app 'app.py'\n",
            " * Debug mode: on\n",
            "\u001b[31m\u001b[1mWARNING: This is a development server. Do not use it in a production deployment. Use a production WSGI server instead.\u001b[0m\n",
            " * Running on http://127.0.0.1:5000\n",
            "\u001b[33mPress CTRL+C to quit\u001b[0m\n",
            " * Restarting with stat\n",
            "User ID: some_random_user_identifier_like_a_uuid\n",
            "Username: your.name@wvy1b71gmw-496ff2e9c6d22116-5000-colab.googleusercontent.com\n",
            " * Debugger is active!\n",
            " * Debugger PIN: 678-238-116\n",
            "127.0.0.1 - - [20/Nov/2023 19:44:51] \"GET / HTTP/1.1\" 200 -\n",
            "127.0.0.1 - - [20/Nov/2023 19:44:51] \"GET /static/style.css HTTP/1.1\" 200 -\n",
            "127.0.0.1 - - [20/Nov/2023 19:44:51] \"GET /static/script.js HTTP/1.1\" 200 -\n",
            "127.0.0.1 - - [20/Nov/2023 19:44:53] \"GET /generate-registration-options HTTP/1.1\" 200 -\n",
            "127.0.0.1 - - [20/Nov/2023 19:44:59] \"POST /verify-registration-response HTTP/1.1\" 200 -\n"
          ]
        }
      ]
    }
  ]
}